{
  "nbformat": 4,
  "nbformat_minor": 0,
  "metadata": {
    "colab": {
      "provenance": [],
      "name": "função"
    },
    "kernelspec": {
      "name": "python3",
      "display_name": "Python 3"
    },
    "language_info": {
      "name": "python"
    }
  },
  "cells": [
    {
      "cell_type": "markdown",
      "source": [
        "# Introdução \n",
        "# Projeto argumentos da função \n",
        "\n",
        "\n",
        "\n",
        "Em Python, existem três tipos comuns de argumentos de função:\n",
        "\n",
        "▪ Argumentos posicionais: argumentos que são chamados por sua posição na definição da função.\n",
        "\n",
        "▪ Argumentos de palavras-chave: argumentos que são chamados pelo nome.\n",
        "\n",
        "▪ Argumentos padrão: argumentos que recebem valores padrão.\n"
      ],
      "metadata": {
        "id": "O6BmZfZBhqYu"
      }
    },
    {
      "cell_type": "markdown",
      "source": [
        "\n",
        "\n",
        "#Atividade 1\n",
        "\n",
        "\n",
        "Definição do problema \n",
        "\n",
        "Criar um programa simples de atribuição de mesa para ajudar a gerenciar qual cliente é atribuído a cada mesa do restaurante. \n",
        "\n",
        "João deseja armazenar não apenas o nome do cliente para a mesa, mas também se ele possui um status VIP (obtido por visitar o restaurante com frequência).\n",
        "\n"
      ],
      "metadata": {
        "id": "a5TpynZPkKG7"
      }
    },
    {
      "cell_type": "code",
      "source": [
        "tables = {\n",
        "  1: ['João', False],\n",
        "  2: [],\n",
        "  3: [],\n",
        "  4: [],\n",
        "  5: [],\n",
        "  6: [],\n",
        "  7: [],\n",
        "}\n",
        "print(tables)\n"
      ],
      "metadata": {
        "colab": {
          "base_uri": "https://localhost:8080/"
        },
        "id": "N24uA1VQkfHO",
        "outputId": "67e4fccb-0d0f-4817-c45e-2a3c5c81fe00"
      },
      "execution_count": null,
      "outputs": [
        {
          "output_type": "stream",
          "name": "stdout",
          "text": [
            "{1: ['João', False], 2: [], 3: [], 4: [], 5: [], 6: [], 7: []}\n"
          ]
        }
      ]
    },
    {
      "cell_type": "markdown",
      "source": [
        "* João precisa de uma maneira de atribuir novos clientes às mesas existentes à medida que eles chegam para fazer suas reservas. \n",
        "#Atividade 2 \n",
        "\n",
        "Definir uma nova função chamada assign_table que receberá três argumentos (nesta ordem exata):\n",
        "\n",
        "table_number\n",
        "name\n",
        "vip_status\n",
        "\n",
        " Usar os seguintes argumentos para atribuir um novo cliente a uma tabela em nosso dicionário tables. \n",
        " Use the table_number como a chave e uma lista contendo name e vip_status como o valor."
      ],
      "metadata": {
        "id": "0UwwN742k-tP"
      }
    },
    {
      "cell_type": "code",
      "source": [
        "def assign_table(table_number, name, vip_status=False): \n",
        "  tables[table_number] =  [name, vip_status]\n"
      ],
      "metadata": {
        "id": "SrMqsii4k5za"
      },
      "execution_count": null,
      "outputs": []
    },
    {
      "cell_type": "markdown",
      "source": [
        "#Atividade 3 \n",
        "\n",
        "\n",
        "A primeira reserva acabou de chegar!\n",
        "\n",
        "Chame nossa função assign_table usando argumentos posicionais para um cliente com o nome de 'Yoni'para a tabela 6. \n",
        "Yoni não tem status VIP e, portanto, deveria ter o valor False.\n",
        "\n",
        "Opcionalmente, imprima tables para verificar se a atribuição foi bem-sucedida.\n",
        "\n",
        "\n"
      ],
      "metadata": {
        "id": "p-SCJWeslhX9"
      }
    },
    {
      "cell_type": "code",
      "source": [
        "assign_table(6, 'Yoni', False)\n",
        "print(tables)"
      ],
      "metadata": {
        "colab": {
          "base_uri": "https://localhost:8080/"
        },
        "id": "Eum0yDHnl2BT",
        "outputId": "c3660796-fede-48fe-edee-212e8c7f2883"
      },
      "execution_count": null,
      "outputs": [
        {
          "output_type": "stream",
          "name": "stdout",
          "text": [
            "{1: ['João', False], 2: [], 3: [], 4: [], 5: [], 6: ['Yoni', False], 7: []}\n"
          ]
        }
      ]
    },
    {
      "cell_type": "markdown",
      "source": [
        "# Atividade 4\n",
        "Parece que entrou outro cliente.\n",
        "\n",
        "Chame assign_table usando argumentos de palavra-chave (em qualquer ordem) para adicionar o novo cliente com os seguintes detalhes:\n",
        "\n",
        "Nome:'Maria'\n",
        "Mesa:3\n",
        "Status VIP:True\n",
        "Certifique-se de incluir as palavras-chave em sua chamada para a função!\n",
        "\n",
        "Opcionalmente, imprima tablespara verificar se a atribuição foi bem-sucedida."
      ],
      "metadata": {
        "id": "g33yVFgGndb2"
      }
    },
    {
      "cell_type": "code",
      "source": [
        "assign_table(table_number=3, name='Maria', vip_status=True)\n",
        "print(tables)"
      ],
      "metadata": {
        "colab": {
          "base_uri": "https://localhost:8080/"
        },
        "id": "zwHE12hInntW",
        "outputId": "d37e23d8-fd04-4373-d1bd-7b9ccba2c290"
      },
      "execution_count": null,
      "outputs": [
        {
          "output_type": "stream",
          "name": "stdout",
          "text": [
            "{1: ['João', False], 2: [], 3: ['Maria', True], 4: [], 5: [], 6: ['Yoni', False], 7: []}\n"
          ]
        }
      ]
    },
    {
      "cell_type": "markdown",
      "source": [
        "#Atividade 5 \n",
        "\n",
        "Um novo cliente acabou de chegar. \n",
        "\n",
        "Adicione o cliente a uma tabela usando as seguintes informações por meio de argumentos posicionais:\n",
        "\n",
        "Nome:'Kamila'\n",
        "\n",
        "Número da mesa:4\n",
        "\n",
        "Karla não é VIP, portanto não precisamos fornecer um argumento adicional, pois já temos um valor padrão de Falseem nossa definição de função.\n",
        "\n",
        "Por último, imprima o tables dicionário, para ver as atribuições da mesa final."
      ],
      "metadata": {
        "id": "xiFGw22JnvAi"
      }
    },
    {
      "cell_type": "code",
      "source": [
        "assign_table(4, 'Kamila')\n",
        "print(tables)"
      ],
      "metadata": {
        "colab": {
          "base_uri": "https://localhost:8080/"
        },
        "id": "tBAxzywZoI2u",
        "outputId": "c0d2e825-d541-41f8-9422-1f2d2893b5f2"
      },
      "execution_count": null,
      "outputs": [
        {
          "output_type": "stream",
          "name": "stdout",
          "text": [
            "{1: ['João', False], 2: [], 3: ['Maria', True], 4: ['Kamila', False], 5: [], 6: ['Yoni', False], 7: []}\n"
          ]
        }
      ]
    }
  ]
}